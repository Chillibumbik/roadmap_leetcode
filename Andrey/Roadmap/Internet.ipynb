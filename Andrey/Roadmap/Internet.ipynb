{
 "cells": [
  {
   "cell_type": "markdown",
   "metadata": {},
   "source": [
    "# How does the internet work?\n",
    "## Internet essentialy is just bunch of protocols and means of representing data.\n",
    "\n",
    "### The most common ptotocoles are:\n",
    "+ IP - [low lvl] needed for 100% reachebleness of destination\n",
    "+ TCP - [low lvl] needed for 0% errors in packet\n",
    "+ HTTP - [high lvl] needed for transportation of info between server and client\n",
    "+ DNS - [high lvl] needed to transform urls into IPs\n",
    "+ SSL/TLS - [high lvl] needed to secure HTTP\n",
    "\n",
    "### How it works in reality:\n",
    "\n",
    "1) You tell your browser to connect to specific domain name (e.g. howmanyeyes.ru)\n",
    "2) Browser sends request to DNS server to get IP address of that domain name\n",
    "3) DNS server returns IP address of that domain name\n",
    "4) If protocol is HTTP, port is chosen to be 80, but as a default port is 443 for HTTPS\n",
    "5) Browser tries to establish connection with socket which is defined by it's IP address and port. 165.95.68.75:443 in our case.\n",
    "6) Once connection is established data transfer may begin\n",
    "\n",
    "### How TLS works?\n",
    "\n",
    "1) All websites have two-parted certificate, which is signed by trusted third party (Certbot :) )\n",
    "2) Websites send first (public) part of certificate to DNS servers, which duistribute those to browsers periodically\n",
    "3) When entering website, browser checks if you have that public part and if yes, proceeds \n",
    "4) Then \"Handshake\" happens - a process during which server and client agree on encryption algorythm and other parameters \n",
    "5) Once handshake finished, connection is considered secure\n",
    "\n"
   ]
  },
  {
   "cell_type": "markdown",
   "metadata": {},
   "source": [
    "# HTTP\n",
    "\n",
    "### Method is skipped due to extensive usage during work\n",
    "\n",
    "### Headers also skipped\n",
    "\n",
    "### Body also skipped\n",
    "\n",
    "### HTTP Response\n",
    "+ Status code \n",
    "    + 1xx - Informational\n",
    "    + 2xx - Success\n",
    "    + 3xx - Redirection\n",
    "    + 4xx - Clien error\n",
    "    + 5xx - Server error\n",
    "+ Responce headers\n",
    "    + General info and specific info about body (if present)\n",
    "+ [Optional] Body"
   ]
  },
  {
   "cell_type": "markdown",
   "metadata": {},
   "source": [
    "# DNS\n",
    "\n",
    "### Why?\n",
    "We use DNS to translate human-friendly adress into machine-friendly adress\n",
    "\n",
    "### Types of DNS servers:\n",
    "+ Recursor\n",
    "    + All communicatiosn with other servers are done throug it \n",
    "    + All communications with clien are done through it\n",
    "    + Also called DNS resolver if contains cached IPs and returns them to client\n",
    "+ Root nameserver\n",
    "    + Points to specific group of IP's (very large group)\n",
    "+ TLD nameserver\n",
    "    + Points to all servers with matching TLD, TLD is last phrase after dot, e.g. \"ru\"\n",
    "+ Authoritative nameserver \n",
    "    + End point DNS server which returns IP of specific DNS\n",
    "    + IP is returned to Recursor!\n",
    "    + It holds IPs and corresponding DNSs while other servers just relay question to other servers\n",
    "\n",
    "#### All servers and clients try to cache as much IPs as possible to minimize waiting times "
   ]
  }
 ],
 "metadata": {
  "language_info": {
   "name": "python"
  }
 },
 "nbformat": 4,
 "nbformat_minor": 2
}
