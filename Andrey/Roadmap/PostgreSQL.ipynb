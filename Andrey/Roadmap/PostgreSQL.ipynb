{
 "cells": [
  {
   "cell_type": "markdown",
   "metadata": {},
   "source": [
    "# PostgreSQL"
   ]
  },
  {
   "cell_type": "markdown",
   "metadata": {},
   "source": [
    "### Relational database\n",
    "\n",
    "Consist of multiple tables, each of which can be linked to any other via primary key or foreign key. These keys are used as pointers to different data sheets.\n",
    "Relational databases follow ACID: \n",
    "1. Either all requested changes are performed or non are\n",
    "2. Data is consistant\n",
    "3. All requests are isolated from each other which ensures serialization\n",
    "4. Changes persist even in case of system failure\n",
    "\n",
    "### SQL\n",
    "It's just common language to interact with databases\n",
    "\n",
    "### Database\n",
    "Database is a collection of schemas, scheme is a collection of shit such as table, functions, and other things.\n",
    "Higherarchy: server->database->schema->table\n",
    "\n",
    "#### There's a lot of basic info like that so let's make a speed round:\n",
    "Domain is a user defined data type\n",
    "tuple is essentialy a row \n",
    "relation is a table\n",
    "attribute is a col\n",
    "constrains are self imposed limitations to make everything work as it is expected from it\n",
    "PostgresSQL is async and each user sees snapshot of database (MVCC)\n",
    "Transaction is async way of making requests either transaction as a whole succseeds or rolls back complitely \n"
   ]
  }
 ],
 "metadata": {
  "language_info": {
   "name": "python"
  }
 },
 "nbformat": 4,
 "nbformat_minor": 2
}
